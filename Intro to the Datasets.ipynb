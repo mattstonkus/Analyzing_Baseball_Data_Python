{
 "cells": [
  {
   "cell_type": "code",
   "execution_count": null,
   "metadata": {},
   "outputs": [],
   "source": [
    "import pandas as pd\n",
    "import get_data as gd\n",
    "import matplotlib.pyplot as plt\n",
    "from matplotlib.ticker import PercentFormatter"
   ]
  },
  {
   "cell_type": "markdown",
   "metadata": {},
   "source": [
    "# Intro to the Data Sets\n",
    "\n",
    "This notebook will introduce you to some foundational datasets for sabermetrics. An brief overview of the datasets, code to get the data, and some examples of how you can use the dataset to answer baseball questions will be provided.\n",
    "\n",
    "The datasets introduced will be:\n",
    "* The Lahman Dataset - It provides a large amount of season data from 1871 to the current season. It has an impressive amount of documentation and can be downloaded in a number of different sources (I use the csv version in this notebook)\n",
    "* The Retro Dataset - Provides game by game or play by play data, a different zip file exists for each season. The data can be found here www.retrosheet.org/gamelogs/index.html."
   ]
  },
  {
   "cell_type": "markdown",
   "metadata": {},
   "source": [
    "## The Lahman Dataset\n",
    "\n",
    "The section will go over (1) How to get the data to your local (2) Examples of questions you can answer with the data (3) Limitation of the dataset.\n",
    "\n",
    "### Getting the Data\n",
    "Neither function is to complex but both help save some time and manual steps. \n",
    "\n",
    "The first function \"get_data\" checks to see if a \"master\" folder already exists, if it doesn't it then uses the \"dload\" package to download and unzip all the files. Some potential good extensions to the get_data function would be to allow the user to provide the source link, name of the master file, and the option to update the content of the master file if it already exists.\n",
    "\n",
    "The \"make_df\" function just saves you from having to remeber the location of the lahman dataset.\n",
    "\n",
    "Again neither function is required, but makes life a litte bit easier."
   ]
  },
  {
   "cell_type": "code",
   "execution_count": null,
   "metadata": {},
   "outputs": [],
   "source": [
    "def get_data():\n",
    "    \"\"\"\n",
    "    Function to download lahman data set, unzip and create a folder\n",
    "    \"\"\"\n",
    "    if path.exists('master'):\n",
    "        print('Folder already exists')\n",
    "    else:\n",
    "        dload.save_unzip(\"https://github.com/chadwickbureau/baseballdatabank/archive/master.zip\")\n",
    "\n",
    "\n",
    "def make_df(data_set: str) -> pd.DataFrame:\n",
    "    \"\"\"\n",
    "    Simple function that saves writting out the file path\n",
    "    :param data_set: Name of Lahman dataset you want\n",
    "    :return: A dataframe of the dataset\n",
    "    \"\"\"\n",
    "    assert isinstance(data_set, str)\n",
    "    df: pd.DataFrame = pd.read_csv(f'master/baseballdatabank-master/core/{data_set}.csv')\n",
    "    assert isinstance(df, pd.DataFrame)\n",
    "    return df"
   ]
  },
  {
   "cell_type": "markdown",
   "metadata": {},
   "source": [
    "### Example Questions & Limitation\n",
    "\n",
    "Below are some example questions that will be answered, the Lahman dataset provides you with almost everything you need to answer season level questions. However, since all data is aggregated to a season you won't be able to dig into game/event specific questions such as \"Do hot streaks exists for batter or pitchers?\"."
   ]
  },
  {
   "cell_type": "markdown",
   "metadata": {},
   "source": [
    "#### Q1 - What is the average number of home runs per game recorded in each decade? Does the rate of strikeouts show any correlation with the rate of home runs?"
   ]
  },
  {
   "cell_type": "code",
   "execution_count": null,
   "metadata": {},
   "outputs": [],
   "source": [
    "teams_df = gd.make_df(\"Teams\") # Get the Teams data \n",
    "\n",
    "# Convert the year into decades\n",
    "teams_df['decade'] = round(teams_df['yearID']/10)*10 \n",
    "# Use the groupby function to aggregate totals for G, HR and SO by decade\n",
    "# I tend to find to easier to set as_index to false\n",
    "decade_group = teams_df.groupby('decade', as_index=False)[['G','HR','SO']].sum()\n",
    "#This removes double counting games\n",
    "decade_group['G'] = decade_group['G']/2 \n",
    "# Now you just need to calculate the averages by decade :)\n",
    "decade_group['Avg HR Per Game'] = decade_group['HR']/decade_group['G']\n",
    "decade_group['Avg SO Per Game'] = decade_group['SO']/decade_group['G']\n",
    "\n",
    "# I will be using matplotlib, some other good libraries to check out are seaborn, plotly & altair\n",
    "# As some future work I will re-make these graphs with the other libraries\n",
    "# Style wise, I typically start with 538, then make some modification to make it with a white background\n",
    "plt.style.use('fivethirtyeight')\n",
    "fig = plt.figure(figsize=(20,15))\n",
    "# Since we want to compare to different metrics over time I use the gricspec function\n",
    "# Given the x-axis align and the y-axis don't I find it better to stack the graphs vertically rather than horizontally\n",
    "# If they are side by side I find ppl tend not to notice the different in axis's \n",
    "# As a rule of thumb I try and always align axis of the same time, so in this case both graphs have x-axis that are by decade\n",
    "gs = fig.add_gridspec(2,1)\n",
    "ax1 = fig.add_subplot(gs[0, 0])\n",
    "ax2 = fig.add_subplot(gs[1, 0])\n",
    "\n",
    "fig.patch.set_facecolor('white')\n",
    "ax1.set_facecolor('white')\n",
    "ax1.plot(decade_group['decade'], decade_group['Avg HR Per Game'])\n",
    "ax1.set_title('Average Home Runs Per Game')\n",
    "\n",
    "ax2.set_facecolor('white')\n",
    "ax2.plot(decade_group['decade'], decade_group['Avg SO Per Game'])\n",
    "ax2.set_title('Average Strike Outs Per Game')\n",
    "plt.show()"
   ]
  },
  {
   "cell_type": "markdown",
   "metadata": {},
   "source": [
    "#### Q2 - What effect has the introduction of the Designated Hitter (DH) in the American League had in the difference in run scoring between the American and National Leagues?"
   ]
  },
  {
   "cell_type": "code",
   "execution_count": null,
   "metadata": {},
   "outputs": [],
   "source": [
    "# Similiar to above you can do some simple groupping by league & year for games and runs\n",
    "league_group = teams_df.groupby(['yearID','lgID'], as_index=False)[['G','R']].sum()\n",
    "\n",
    "# I then seperate out NL & AL into their own dataframes to make graphing & calculations easier \n",
    "nl_group = league_group[league_group['lgID'] == 'NL']\n",
    "al_group = league_group[league_group['lgID'] == 'AL']\n",
    "\n",
    "# Find the average runs per game (since we seperated leagues no need to remove double counting)\n",
    "nl_group['Avg Runs Per Game'] = nl_group['R']/nl_group['G']\n",
    "al_group['Avg Runs Per Game'] = al_group['R']/al_group['G']\n",
    "\n",
    "plt.style.use('fivethirtyeight')\n",
    "# First attempt at graphing this I just plotted the two leagues over top of each other\n",
    "# This seemed like the natural way to look at it but it was hard to tell what the impact was\n",
    "fig, ax = plt.subplots(figsize= (20,10))\n",
    "fig.patch.set_facecolor('white')\n",
    "ax.plot(nl_group['yearID'], nl_group['Avg Runs Per Game'], label='National League')\n",
    "ax.plot(al_group['yearID'], al_group['Avg Runs Per Game'], label='American League')\n",
    "ax.set_facecolor('white')\n",
    "ax.legend()\n",
    "ax.set_title('Average Runs by League')\n",
    "# draw a line for when the DH was added to make seeing the impact easier\n",
    "# TODO Add some text indicating what this line is\n",
    "plt.axvline(x=1973, color='black', linestyle='--') "
   ]
  },
  {
   "cell_type": "code",
   "execution_count": null,
   "metadata": {},
   "outputs": [],
   "source": [
    "# In my second attempt I merge the AL & NL sets together and then graph the difference\n",
    "league_merge = pd.merge(nl_group, al_group, on='yearID',suffixes=('_nl', '_al'))\n",
    "league_merge['Avg Run Difference'] = league_merge['Avg Runs Per Game_nl'] - league_merge['Avg Runs Per Game_al']\n",
    "\n",
    "# The impact of the DH is more clear to see in this method\n",
    "# The interesting thing to notice is how slowly how the impact of the DH has disappeared\n",
    "# This makes me want to dig into what is causing the decline in the impact\n",
    "plt.style.use('fivethirtyeight')\n",
    "fig, ax = plt.subplots(figsize= (20,10))\n",
    "fig.patch.set_facecolor('white')\n",
    "ax.plot(league_merge['yearID'], league_merge['Avg Run Difference'])\n",
    "ax.set_facecolor('white')\n",
    "#ax.legend()\n",
    "plt.axvline(x=1973, color='black', linestyle='--')\n",
    "plt.axhline(y=0, color='black') # Add in a solid line to spot the difference a bit easier\n",
    "plt.show()"
   ]
  },
  {
   "cell_type": "markdown",
   "metadata": {},
   "source": [
    "#### Q3 - How does the percentage of games completed by the starting pitcher from 2000 to 2010 compare to the percentage of games 100 years before?"
   ]
  },
  {
   "cell_type": "code",
   "execution_count": null,
   "metadata": {},
   "outputs": [],
   "source": [
    "pitching_df = gd.make_df(\"Pitching\") # Get the Pitching data \n",
    "\n",
    "# I slice the data into two different dataframes based on the years in question\n",
    "# Best to make a function which takes date ranges to do this\n",
    "pitching_df_2000_to_2010 = pitching_df[(pitching_df['yearID'] >= 2000) & (pitching_df['yearID'] <= 2010)]\n",
    "# Use the sum function you can easily figure out the % completed for the decades\n",
    "avg_comp_rate_2000_to_2010 = pitching_df_2000_to_2010['CG'].sum()/pitching_df_2000_to_2010['GS'].sum()\n",
    "pitching_df_1900_to_1910 = pitching_df[(pitching_df['yearID'] >= 1900) & (pitching_df['yearID'] <= 1910)]\n",
    "avg_comp_rate_1900_to_1910 = pitching_df_1900_to_1910['CG'].sum()/pitching_df_1900_to_1910['GS'].sum()\n",
    "\n",
    "plt.style.use('fivethirtyeight')\n",
    "fig, ax = plt.subplots(figsize= (20,10))\n",
    "fig.patch.set_facecolor('white')\n",
    "ax.bar(x = ['1900 to 1910', '2000 to 2010'],\n",
    "      height=[avg_comp_rate_1900_to_1910*100, avg_comp_rate_2000_to_2010*100])\n",
    "ax.set_facecolor('white')\n",
    "ax.yaxis.set_major_formatter(PercentFormatter())\n",
    "ax.set_ylim(0,100)\n",
    "ax.set_title('The Average Pitcher Game Completion Rate of\\n1900 to 1910 vs 2000 to 2010')\n",
    "plt.ylabel('% of Game Completed (Pitchers)')\n",
    "#ax.legend()\n",
    "plt.show()"
   ]
  },
  {
   "cell_type": "markdown",
   "metadata": {},
   "source": [
    "## The Retro Dataset\n",
    "\n",
    "Like before this section will go over how to get the data and then some examples on what questions you can answer with the dataset.\n",
    "\n",
    "### Getting the data\n",
    "\n",
    "The function will create a retro folder and then iterate through each year, download and unzip the file."
   ]
  },
  {
   "cell_type": "code",
   "execution_count": 2,
   "metadata": {},
   "outputs": [],
   "source": [
    "def get_retro_data():\n",
    "    retro_path = './retro'\n",
    "    os.mkdir(retro_path)\n",
    "    for year in range(1871,2020):\n",
    "        dload.save_unzip(f'https://www.retrosheet.org/gamelogs/gl{year}.zip', extract_path=retro_path , delete_after=True)"
   ]
  },
  {
   "cell_type": "code",
   "execution_count": null,
   "metadata": {},
   "outputs": [],
   "source": []
  }
 ],
 "metadata": {
  "kernelspec": {
   "display_name": "Python 3",
   "language": "python",
   "name": "python3"
  },
  "language_info": {
   "codemirror_mode": {
    "name": "ipython",
    "version": 3
   },
   "file_extension": ".py",
   "mimetype": "text/x-python",
   "name": "python",
   "nbconvert_exporter": "python",
   "pygments_lexer": "ipython3",
   "version": "3.8.5"
  }
 },
 "nbformat": 4,
 "nbformat_minor": 4
}
